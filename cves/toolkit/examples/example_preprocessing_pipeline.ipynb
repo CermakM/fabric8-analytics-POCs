{
 "cells": [
  {
   "cell_type": "code",
   "execution_count": 1,
   "metadata": {},
   "outputs": [],
   "source": [
    "import re\n",
    "import sys\n",
    "\n",
    "# nvdlib has be installed (I suggest to use venv for that)\n",
    "from nvdlib.nvd import NVD\n",
    "\n",
    "# add the experimental project to the path\n",
    "sys.path.append(\"../src\")\n",
    "import toolkit  # import the toolkit"
   ]
  },
  {
   "cell_type": "markdown",
   "metadata": {},
   "source": [
    "### Get the NVD Feed"
   ]
  },
  {
   "cell_type": "code",
   "execution_count": 2,
   "metadata": {},
   "outputs": [],
   "source": [
    "# get the nvd feed\n",
    "feed = NVD.from_feeds(feed_names=[2017])\n",
    "# update\n",
    "feed.update()\n",
    "\n",
    "# generator\n",
    "cves = feed.cves()\n",
    "\n",
    "# assign the cves to the DATA variable and unpack the iterator (iterator does not\n",
    "# matter to the pipeline, but for the purpose of reusing the DATA in the notebook,\n",
    "# it is usefull to unpack it)\n",
    "DATA = list(cves)"
   ]
  },
  {
   "cell_type": "markdown",
   "metadata": {},
   "source": [
    "## Preprocessing Example"
   ]
  },
  {
   "cell_type": "code",
   "execution_count": 3,
   "metadata": {},
   "outputs": [],
   "source": [
    "# apply NVDFeedPreprocessor transformation to extract relevant attributes\n",
    "nvd_prep = toolkit.preprocessing.NVDFeedPreprocessor(\n",
    "    attributes=['description']\n",
    ")\n",
    "\n",
    "# apply `transform` on the initial DATA\n",
    "data = nvd_prep.transform(DATA)"
   ]
  },
  {
   "cell_type": "code",
   "execution_count": 4,
   "metadata": {},
   "outputs": [],
   "source": [
    "# clear the instances so that it could be redefined\n",
    "toolkit.pipeline.Hook.clear_current_instances()\n",
    "\n",
    "label_hook = toolkit.pipeline.Hook(\n",
    "    key='label_hook',\n",
    "    # use the find_ function as a labeling hook - it searches the description for the\n",
    "    # project name and returns it as a label, if applicable\n",
    "    func=toolkit.utils.find_\n",
    ")"
   ]
  },
  {
   "cell_type": "code",
   "execution_count": 5,
   "metadata": {},
   "outputs": [
    {
     "data": {
      "text/plain": [
       "(2373, 2)"
      ]
     },
     "execution_count": 5,
     "metadata": {},
     "output_type": "execute_result"
    }
   ],
   "source": [
    "# apply LabelPreprocessor to assign labels for future training\n",
    "label_prep = toolkit.preprocessing.LabelPreprocessor(\n",
    "    attributes=['project', 'description'],\n",
    "    hook=label_hook\n",
    ")\n",
    "\n",
    "# apply `fit_transform` on the data outputed by NVDFeedPreprocessor\n",
    "labeled_data = label_prep.fit_transform(data)\n",
    "\n",
    "labeled_data.shape"
   ]
  },
  {
   "cell_type": "markdown",
   "metadata": {},
   "source": [
    "## Preprocessing Example with sklrearn Pipeline"
   ]
  },
  {
   "cell_type": "code",
   "execution_count": 6,
   "metadata": {},
   "outputs": [],
   "source": [
    "from sklearn.pipeline import Pipeline"
   ]
  },
  {
   "cell_type": "code",
   "execution_count": 7,
   "metadata": {},
   "outputs": [],
   "source": [
    "# clear all the hook instances\n",
    "toolkit.pipeline.Hook.clear_current_instances()"
   ]
  },
  {
   "cell_type": "code",
   "execution_count": 8,
   "metadata": {},
   "outputs": [],
   "source": [
    "pipeline = Pipeline(\n",
    "    steps=[\n",
    "        (\n",
    "            'nvd_feed_preprocessor',\n",
    "            toolkit.preprocessing.NVDFeedPreprocessor(attributes=['description'])\n",
    "        ),\n",
    "        (\n",
    "            'label_preprocessor', \n",
    "            toolkit.preprocessing.LabelPreprocessor(\n",
    "                attributes=['project', 'description'],\n",
    "                hook=toolkit.pipeline.Hook(key='label_hook', func=toolkit.utils.find_)\n",
    "            )\n",
    "        )\n",
    "    ]\n",
    ")"
   ]
  },
  {
   "cell_type": "code",
   "execution_count": 9,
   "metadata": {},
   "outputs": [
    {
     "data": {
      "text/plain": [
       "(2373, 2)"
      ]
     },
     "execution_count": 9,
     "metadata": {},
     "output_type": "execute_result"
    }
   ],
   "source": [
    "# transform and fit the data with the preprocessors\n",
    "pipeline_output = pipeline.fit_transform(X=DATA)\n",
    "\n",
    "pipeline_output.shape"
   ]
  },
  {
   "cell_type": "code",
   "execution_count": 10,
   "metadata": {},
   "outputs": [
    {
     "data": {
      "text/plain": [
       "True"
      ]
     },
     "execution_count": 10,
     "metadata": {},
     "output_type": "execute_result"
    }
   ],
   "source": [
    "# check that the outputs are the same\n",
    "(pipeline_output == labeled_data).all()"
   ]
  },
  {
   "cell_type": "code",
   "execution_count": 11,
   "metadata": {},
   "outputs": [
    {
     "data": {
      "text/plain": [
       "array([[Attributes(project='ChakraCore', description='A remote code execution vulnerability exists when Microsoft scripting engine improperly accesses objects in memory. The vulnerability could corrupt memory in a way that enables an attacker to execute arbitrary code in the context of the current user. An attacker who successfully exploited the vulnerability could gain the same user rights as the current user, aka \"Scripting Engine Memory Corruption Vulnerability.\"'),\n",
       "        None],\n",
       "       [Attributes(project='CVE-2017-0038-EXP-C-JS', description='gdi32.dll in Graphics Device Interface (GDI) in Microsoft Windows Vista SP2, Windows Server 2008 SP2 and R2 SP1, Windows 7 SP1, Windows 8.1, Windows Server 2012 Gold and R2, Windows RT 8.1, and Windows 10 Gold, 1511, and 1607 allows remote attackers to obtain sensitive information from process heap memory via a crafted EMF file, as demonstrated by an EMR_SETDIBITSTODEVICE record with modified Device Independent Bitmap (DIB) dimensions. NOTE: this vulnerability exists because of an incomplete fix for CVE-2016-3216, CVE-2016-3219, and/or CVE-2016-3220.'),\n",
       "        None],\n",
       "       [Attributes(project='ChakraCore', description='A remote code execution vulnerability exists in the way affected Microsoft scripting engine render when handling objects in memory in Microsoft browsers. The vulnerability could corrupt memory in such a way that an attacker could execute arbitrary code in the context of the current user. An attacker who successfully exploited the vulnerability could gain the same user rights as the current user, aka \"Scripting Engine Memory Corruption Vulnerability.\"'),\n",
       "        None],\n",
       "       [Attributes(project='ChakraCore', description='An information disclosure vulnerability in Microsoft scripting engine allows remote attackers to obtain sensitive information from process memory via a crafted web site, aka \"Microsoft Browser Information Disclosure Vulnerability.\"'),\n",
       "        None],\n",
       "       [Attributes(project='ChakraCore', description='A remote code execution vulnerability exists in Microsoft Chakra Core in the way JavaScript engines render when handling objects in memory. aka \"Scripting Engine Memory Corruption Vulnerability\". This vulnerability is unique from CVE-2017-0252.'),\n",
       "        None]], dtype=object)"
      ]
     },
     "execution_count": 11,
     "metadata": {},
     "output_type": "execute_result"
    }
   ],
   "source": [
    "# example of the labeled data\n",
    "pipeline_output[:5]"
   ]
  }
 ],
 "metadata": {
  "kernelspec": {
   "display_name": "env",
   "language": "python",
   "name": "env"
  },
  "language_info": {
   "codemirror_mode": {
    "name": "ipython",
    "version": 3
   },
   "file_extension": ".py",
   "mimetype": "text/x-python",
   "name": "python",
   "nbconvert_exporter": "python",
   "pygments_lexer": "ipython3",
   "version": "3.6.3"
  }
 },
 "nbformat": 4,
 "nbformat_minor": 2
}
