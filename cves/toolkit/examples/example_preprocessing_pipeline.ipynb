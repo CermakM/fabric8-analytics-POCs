{
 "cells": [
  {
   "cell_type": "code",
   "execution_count": 1,
   "metadata": {},
   "outputs": [],
   "source": [
    "import re\n",
    "import sys\n",
    "\n",
    "# nvdlib has be installed (I suggest to use venv for that)\n",
    "from nvdlib.nvd import NVD\n",
    "\n",
    "# add the experimental project to the path\n",
    "sys.path.append(\"../src\")\n",
    "import toolkit  # import the toolkit"
   ]
  },
  {
   "cell_type": "markdown",
   "metadata": {},
   "source": [
    "### Get the NVD Feed"
   ]
  },
  {
   "cell_type": "code",
   "execution_count": 2,
   "metadata": {},
   "outputs": [],
   "source": [
    "# get the nvd feed\n",
    "feed = NVD.from_feeds(feed_names=[2017])\n",
    "# update\n",
    "feed.update()\n",
    "\n",
    "# generator\n",
    "cves = feed.cves()\n",
    "\n",
    "# assign the cves to the DATA variable and unpack the iterator (iterator does not\n",
    "# matter to the pipeline, but for the purpose of reusing the DATA in the notebook,\n",
    "# it is usefull to unpack it)\n",
    "DATA = list(cves)"
   ]
  },
  {
   "cell_type": "markdown",
   "metadata": {},
   "source": [
    "## Preprocessing Example"
   ]
  },
  {
   "cell_type": "code",
   "execution_count": 3,
   "metadata": {},
   "outputs": [],
   "source": [
    "# apply NVDFeedPreprocessor transformation to extract relevant attributes\n",
    "nvd_prep = toolkit.preprocessing.NVDFeedPreprocessor(\n",
    "    attributes=['description']\n",
    ")\n",
    "\n",
    "# apply `transform` on the initial DATA\n",
    "data = nvd_prep.transform(DATA)"
   ]
  },
  {
   "cell_type": "code",
   "execution_count": 4,
   "metadata": {},
   "outputs": [],
   "source": [
    "# clear the instances so that it could be redefined\n",
    "toolkit.transformers.Hook.clear_current_instances()\n",
    "\n",
    "label_hook = toolkit.transformers.Hook(\n",
    "    key='label_hook',\n",
    "    # use the find_ function as a labeling hook - it searches the description for the\n",
    "    # project name and returns it as a label, if applicable\n",
    "    func=toolkit.utils.find_\n",
    ")"
   ]
  },
  {
   "cell_type": "code",
   "execution_count": 5,
   "metadata": {},
   "outputs": [
    {
     "data": {
      "text/plain": [
       "(1468, 2)"
      ]
     },
     "execution_count": 5,
     "metadata": {},
     "output_type": "execute_result"
    }
   ],
   "source": [
    "# apply LabelPreprocessor to assign labels for future training\n",
    "label_prep = toolkit.preprocessing.LabelPreprocessor(\n",
    "    feed_attributes=['project', 'description'],\n",
    "    output_attributes=['description'],\n",
    "    hook=label_hook\n",
    ")\n",
    "\n",
    "# apply `fit_transform` on the data outputed by NVDFeedPreprocessor\n",
    "labeled_data = label_prep.fit_transform(data)\n",
    "\n",
    "labeled_data.shape"
   ]
  },
  {
   "cell_type": "markdown",
   "metadata": {},
   "source": [
    "## Preprocessing Example with sklrearn Pipeline"
   ]
  },
  {
   "cell_type": "code",
   "execution_count": 6,
   "metadata": {},
   "outputs": [],
   "source": [
    "from sklearn.pipeline import Pipeline"
   ]
  },
  {
   "cell_type": "code",
   "execution_count": 7,
   "metadata": {},
   "outputs": [],
   "source": [
    "# clear all the hook instances\n",
    "toolkit.transformers.Hook.clear_current_instances()"
   ]
  },
  {
   "cell_type": "code",
   "execution_count": 8,
   "metadata": {},
   "outputs": [],
   "source": [
    "pipeline = Pipeline(\n",
    "    steps=[\n",
    "        (\n",
    "            'nvd_feed_preprocessor',\n",
    "            toolkit.preprocessing.NVDFeedPreprocessor(attributes=['description'])\n",
    "        ),\n",
    "        (\n",
    "            'label_preprocessor', \n",
    "            toolkit.preprocessing.LabelPreprocessor(\n",
    "                feed_attributes=['project', 'description'],\n",
    "                output_attributes=['description'],\n",
    "                hook=toolkit.transformers.Hook(key='label_hook', func=toolkit.utils.find_)\n",
    "            )\n",
    "        )\n",
    "    ]\n",
    ")"
   ]
  },
  {
   "cell_type": "code",
   "execution_count": 9,
   "metadata": {},
   "outputs": [
    {
     "data": {
      "text/plain": [
       "(1468, 2)"
      ]
     },
     "execution_count": 9,
     "metadata": {},
     "output_type": "execute_result"
    }
   ],
   "source": [
    "# transform and fit the data with the preprocessors\n",
    "pipeline_output = pipeline.fit_transform(X=DATA)\n",
    "\n",
    "pipeline_output.shape"
   ]
  },
  {
   "cell_type": "code",
   "execution_count": 10,
   "metadata": {},
   "outputs": [
    {
     "data": {
      "text/plain": [
       "True"
      ]
     },
     "execution_count": 10,
     "metadata": {},
     "output_type": "execute_result"
    }
   ],
   "source": [
    "# check that the outputs are the same\n",
    "(pipeline_output == labeled_data).all()"
   ]
  },
  {
   "cell_type": "code",
   "execution_count": 11,
   "metadata": {},
   "outputs": [
    {
     "data": {
      "text/plain": [
       "array([['The hidden-service feature in Tor before 0.3.0.8 allows a denial of service (assertion failure and daemon exit) in the relay_send_end_cell_from_edge_ function via a malformed BEGIN cell.',\n",
       "        'Tor'],\n",
       "       ['The hidden-service feature in Tor before 0.3.0.8 allows a denial of service (assertion failure and daemon exit) in the connection_edge_process_relay_cell function via a BEGIN_DIR cell on a rendezvous circuit.',\n",
       "        'Tor'],\n",
       "       [\"Tor 0.3.x before 0.3.0.9 has a guard-selection algorithm that only considers the exit relay (not the exit relay's family), which might allow remote attackers to defeat intended anonymity properties by leveraging the existence of large families.\",\n",
       "        'Tor'],\n",
       "       ['XSS exists in the login_form function in views/helpers.php in Phamm before 0.6.7, exploitable via the PATH_INFO to main.php.',\n",
       "        'Phamm'],\n",
       "       ['The rend_service_intro_established function in or/rendservice.c in Tor before 0.2.8.15, 0.2.9.x before 0.2.9.12, 0.3.0.x before 0.3.0.11, 0.3.1.x before 0.3.1.7, and 0.3.2.x before 0.3.2.1-alpha, when SafeLogging is disabled, allows attackers to obtain sensitive information by leveraging access to the log files of a hidden service, because uninitialized stack data is included in an error message about construction of an introduction point circuit.',\n",
       "        'Tor']], dtype='<U1236')"
      ]
     },
     "execution_count": 11,
     "metadata": {},
     "output_type": "execute_result"
    }
   ],
   "source": [
    "# example of the labeled data\n",
    "pipeline_output[:5]"
   ]
  }
 ],
 "metadata": {
  "kernelspec": {
   "display_name": "env",
   "language": "python",
   "name": "env"
  },
  "language_info": {
   "codemirror_mode": {
    "name": "ipython",
    "version": 3
   },
   "file_extension": ".py",
   "mimetype": "text/x-python",
   "name": "python",
   "nbconvert_exporter": "python",
   "pygments_lexer": "ipython3",
   "version": "3.6.3"
  }
 },
 "nbformat": 4,
 "nbformat_minor": 2
}
